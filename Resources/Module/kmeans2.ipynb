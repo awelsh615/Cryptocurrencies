{
 "cells": [
  {
   "cell_type": "code",
   "execution_count": 11,
   "source": [
    "# Initial imports\r\n",
    "import pandas as pd\r\n",
    "from sklearn.cluster import KMeans\r\n",
    "import plotly.express as px\r\n",
    "import hvplot.pandas"
   ],
   "outputs": [],
   "metadata": {}
  },
  {
   "cell_type": "code",
   "execution_count": 12,
   "source": [
    "# Load data\r\n",
    "file_path = \"shopping_data_cleaned.csv\"\r\n",
    "df_shopping = pd.read_csv(file_path)\r\n",
    "df_shopping.head(10)"
   ],
   "outputs": [
    {
     "output_type": "execute_result",
     "data": {
      "text/html": [
       "<div>\n",
       "<style scoped>\n",
       "    .dataframe tbody tr th:only-of-type {\n",
       "        vertical-align: middle;\n",
       "    }\n",
       "\n",
       "    .dataframe tbody tr th {\n",
       "        vertical-align: top;\n",
       "    }\n",
       "\n",
       "    .dataframe thead th {\n",
       "        text-align: right;\n",
       "    }\n",
       "</style>\n",
       "<table border=\"1\" class=\"dataframe\">\n",
       "  <thead>\n",
       "    <tr style=\"text-align: right;\">\n",
       "      <th></th>\n",
       "      <th>Card_member</th>\n",
       "      <th>Age</th>\n",
       "      <th>Annual_Income</th>\n",
       "      <th>Spend_score</th>\n",
       "    </tr>\n",
       "  </thead>\n",
       "  <tbody>\n",
       "    <tr>\n",
       "      <th>0</th>\n",
       "      <td>1</td>\n",
       "      <td>19.0</td>\n",
       "      <td>0.015</td>\n",
       "      <td>39.0</td>\n",
       "    </tr>\n",
       "    <tr>\n",
       "      <th>1</th>\n",
       "      <td>1</td>\n",
       "      <td>21.0</td>\n",
       "      <td>0.015</td>\n",
       "      <td>81.0</td>\n",
       "    </tr>\n",
       "    <tr>\n",
       "      <th>2</th>\n",
       "      <td>0</td>\n",
       "      <td>20.0</td>\n",
       "      <td>0.016</td>\n",
       "      <td>6.0</td>\n",
       "    </tr>\n",
       "    <tr>\n",
       "      <th>3</th>\n",
       "      <td>0</td>\n",
       "      <td>23.0</td>\n",
       "      <td>0.016</td>\n",
       "      <td>77.0</td>\n",
       "    </tr>\n",
       "    <tr>\n",
       "      <th>4</th>\n",
       "      <td>0</td>\n",
       "      <td>31.0</td>\n",
       "      <td>0.017</td>\n",
       "      <td>40.0</td>\n",
       "    </tr>\n",
       "    <tr>\n",
       "      <th>5</th>\n",
       "      <td>0</td>\n",
       "      <td>22.0</td>\n",
       "      <td>0.017</td>\n",
       "      <td>76.0</td>\n",
       "    </tr>\n",
       "    <tr>\n",
       "      <th>6</th>\n",
       "      <td>0</td>\n",
       "      <td>35.0</td>\n",
       "      <td>0.018</td>\n",
       "      <td>6.0</td>\n",
       "    </tr>\n",
       "    <tr>\n",
       "      <th>7</th>\n",
       "      <td>0</td>\n",
       "      <td>23.0</td>\n",
       "      <td>0.018</td>\n",
       "      <td>94.0</td>\n",
       "    </tr>\n",
       "    <tr>\n",
       "      <th>8</th>\n",
       "      <td>1</td>\n",
       "      <td>64.0</td>\n",
       "      <td>0.019</td>\n",
       "      <td>3.0</td>\n",
       "    </tr>\n",
       "    <tr>\n",
       "      <th>9</th>\n",
       "      <td>0</td>\n",
       "      <td>30.0</td>\n",
       "      <td>0.019</td>\n",
       "      <td>72.0</td>\n",
       "    </tr>\n",
       "  </tbody>\n",
       "</table>\n",
       "</div>"
      ],
      "text/plain": [
       "   Card_member   Age  Annual_Income  Spend_score\n",
       "0            1  19.0          0.015         39.0\n",
       "1            1  21.0          0.015         81.0\n",
       "2            0  20.0          0.016          6.0\n",
       "3            0  23.0          0.016         77.0\n",
       "4            0  31.0          0.017         40.0\n",
       "5            0  22.0          0.017         76.0\n",
       "6            0  35.0          0.018          6.0\n",
       "7            0  23.0          0.018         94.0\n",
       "8            1  64.0          0.019          3.0\n",
       "9            0  30.0          0.019         72.0"
      ]
     },
     "metadata": {},
     "execution_count": 12
    }
   ],
   "metadata": {}
  },
  {
   "cell_type": "code",
   "execution_count": 13,
   "source": [
    "df_shopping.hvplot.scatter(x=\"Annual_Income\", y=\"Spend_score\")\r\n"
   ],
   "outputs": [
    {
     "output_type": "display_data",
     "data": {},
     "metadata": {}
    },
    {
     "output_type": "execute_result",
     "data": {
      "text/html": [
       "<div id='1634'>\n",
       "\n",
       "\n",
       "\n",
       "\n",
       "\n",
       "  <div class=\"bk-root\" id=\"9183d0c8-e84a-43ee-90de-eb74803a65cb\" data-root-id=\"1634\"></div>\n",
       "</div>\n",
       "<script type=\"application/javascript\">(function(root) {\n",
       "  function embed_document(root) {\n",
       "    var docs_json = {\"6b43204c-1aa1-4099-aef5-4395ee9bbc36\":{\"defs\":[{\"extends\":null,\"module\":null,\"name\":\"ReactiveHTML1\",\"overrides\":[],\"properties\":[]},{\"extends\":null,\"module\":null,\"name\":\"FlexBox1\",\"overrides\":[],\"properties\":[{\"default\":\"flex-start\",\"kind\":null,\"name\":\"align_content\"},{\"default\":\"flex-start\",\"kind\":null,\"name\":\"align_items\"},{\"default\":\"row\",\"kind\":null,\"name\":\"flex_direction\"},{\"default\":\"wrap\",\"kind\":null,\"name\":\"flex_wrap\"},{\"default\":\"flex-start\",\"kind\":null,\"name\":\"justify_content\"}]},{\"extends\":null,\"module\":null,\"name\":\"TemplateActions1\",\"overrides\":[],\"properties\":[{\"default\":0,\"kind\":null,\"name\":\"open_modal\"},{\"default\":0,\"kind\":null,\"name\":\"close_modal\"}]},{\"extends\":null,\"module\":null,\"name\":\"MaterialTemplateActions1\",\"overrides\":[],\"properties\":[{\"default\":0,\"kind\":null,\"name\":\"open_modal\"},{\"default\":0,\"kind\":null,\"name\":\"close_modal\"}]}],\"roots\":{\"references\":[{\"attributes\":{\"callback\":null,\"renderers\":[{\"id\":\"1675\"}],\"tags\":[\"hv_created\"],\"tooltips\":[[\"Annual_Income\",\"@{Annual_Income}\"],[\"Spend_score\",\"@{Spend_score}\"]]},\"id\":\"1638\",\"type\":\"HoverTool\"},{\"attributes\":{},\"id\":\"1657\",\"type\":\"PanTool\"},{\"attributes\":{\"margin\":[5,5,5,5],\"name\":\"HSpacer02770\",\"sizing_mode\":\"stretch_width\"},\"id\":\"1704\",\"type\":\"Spacer\"},{\"attributes\":{},\"id\":\"1644\",\"type\":\"LinearScale\"},{\"attributes\":{},\"id\":\"1649\",\"type\":\"BasicTicker\"},{\"attributes\":{\"text_color\":\"black\",\"text_font_size\":\"12pt\"},\"id\":\"1640\",\"type\":\"Title\"},{\"attributes\":{\"axis_label\":\"Annual_Income\",\"formatter\":{\"id\":\"1678\"},\"major_label_policy\":{\"id\":\"1680\"},\"ticker\":{\"id\":\"1649\"}},\"id\":\"1648\",\"type\":\"LinearAxis\"},{\"attributes\":{},\"id\":\"1678\",\"type\":\"BasicTickFormatter\"},{\"attributes\":{\"below\":[{\"id\":\"1648\"}],\"center\":[{\"id\":\"1651\"},{\"id\":\"1655\"}],\"height\":300,\"left\":[{\"id\":\"1652\"}],\"margin\":[5,5,5,5],\"min_border_bottom\":10,\"min_border_left\":10,\"min_border_right\":10,\"min_border_top\":10,\"renderers\":[{\"id\":\"1675\"}],\"sizing_mode\":\"fixed\",\"title\":{\"id\":\"1640\"},\"toolbar\":{\"id\":\"1662\"},\"width\":700,\"x_range\":{\"id\":\"1636\"},\"x_scale\":{\"id\":\"1644\"},\"y_range\":{\"id\":\"1637\"},\"y_scale\":{\"id\":\"1646\"}},\"id\":\"1639\",\"subtype\":\"Figure\",\"type\":\"Plot\"},{\"attributes\":{},\"id\":\"1670\",\"type\":\"Selection\"},{\"attributes\":{},\"id\":\"1646\",\"type\":\"LinearScale\"},{\"attributes\":{\"axis\":{\"id\":\"1652\"},\"dimension\":1,\"grid_line_color\":null,\"ticker\":null},\"id\":\"1655\",\"type\":\"Grid\"},{\"attributes\":{},\"id\":\"1680\",\"type\":\"AllLabels\"},{\"attributes\":{\"axis\":{\"id\":\"1648\"},\"grid_line_color\":null,\"ticker\":null},\"id\":\"1651\",\"type\":\"Grid\"},{\"attributes\":{},\"id\":\"1683\",\"type\":\"AllLabels\"},{\"attributes\":{\"data_source\":{\"id\":\"1669\"},\"glyph\":{\"id\":\"1672\"},\"hover_glyph\":null,\"muted_glyph\":{\"id\":\"1674\"},\"nonselection_glyph\":{\"id\":\"1673\"},\"selection_glyph\":{\"id\":\"1677\"},\"view\":{\"id\":\"1676\"}},\"id\":\"1675\",\"type\":\"GlyphRenderer\"},{\"attributes\":{},\"id\":\"1692\",\"type\":\"UnionRenderers\"},{\"attributes\":{\"children\":[{\"id\":\"1635\"},{\"id\":\"1639\"},{\"id\":\"1704\"}],\"margin\":[0,0,0,0],\"name\":\"Row02765\",\"tags\":[\"embedded\"]},\"id\":\"1634\",\"type\":\"Row\"},{\"attributes\":{\"axis_label\":\"Spend_score\",\"formatter\":{\"id\":\"1681\"},\"major_label_policy\":{\"id\":\"1683\"},\"ticker\":{\"id\":\"1653\"}},\"id\":\"1652\",\"type\":\"LinearAxis\"},{\"attributes\":{\"margin\":[5,5,5,5],\"name\":\"HSpacer02769\",\"sizing_mode\":\"stretch_width\"},\"id\":\"1635\",\"type\":\"Spacer\"},{\"attributes\":{},\"id\":\"1653\",\"type\":\"BasicTicker\"},{\"attributes\":{},\"id\":\"1658\",\"type\":\"WheelZoomTool\"},{\"attributes\":{\"active_multi\":null,\"tools\":[{\"id\":\"1638\"},{\"id\":\"1656\"},{\"id\":\"1657\"},{\"id\":\"1658\"},{\"id\":\"1659\"},{\"id\":\"1660\"}]},\"id\":\"1662\",\"type\":\"Toolbar\"},{\"attributes\":{},\"id\":\"1681\",\"type\":\"BasicTickFormatter\"},{\"attributes\":{},\"id\":\"1656\",\"type\":\"SaveTool\"},{\"attributes\":{\"overlay\":{\"id\":\"1661\"}},\"id\":\"1659\",\"type\":\"BoxZoomTool\"},{\"attributes\":{\"data\":{\"Annual_Income\":{\"__ndarray__\":\"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\",\"dtype\":\"float64\",\"order\":\"little\",\"shape\":[200]},\"Spend_score\":{\"__ndarray__\":\"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\",\"dtype\":\"float64\",\"order\":\"little\",\"shape\":[200]}},\"selected\":{\"id\":\"1670\"},\"selection_policy\":{\"id\":\"1692\"}},\"id\":\"1669\",\"type\":\"ColumnDataSource\"},{\"attributes\":{},\"id\":\"1660\",\"type\":\"ResetTool\"},{\"attributes\":{\"fill_alpha\":{\"value\":0.1},\"fill_color\":{\"value\":\"#30a2da\"},\"line_alpha\":{\"value\":0.1},\"line_color\":{\"value\":\"#30a2da\"},\"size\":{\"value\":5.477225575051661},\"x\":{\"field\":\"Annual_Income\"},\"y\":{\"field\":\"Spend_score\"}},\"id\":\"1673\",\"type\":\"Scatter\"},{\"attributes\":{\"fill_color\":{\"value\":\"#30a2da\"},\"line_color\":{\"value\":\"#30a2da\"},\"size\":{\"value\":5.477225575051661},\"x\":{\"field\":\"Annual_Income\"},\"y\":{\"field\":\"Spend_score\"}},\"id\":\"1672\",\"type\":\"Scatter\"},{\"attributes\":{\"angle\":{\"value\":0.0},\"fill_alpha\":{\"value\":1.0},\"fill_color\":{\"value\":\"#30a2da\"},\"hatch_alpha\":{\"value\":1.0},\"hatch_color\":{\"value\":\"black\"},\"hatch_scale\":{\"value\":12.0},\"hatch_weight\":{\"value\":1.0},\"line_alpha\":{\"value\":1.0},\"line_cap\":{\"value\":\"butt\"},\"line_color\":{\"value\":\"#30a2da\"},\"line_dash\":{\"value\":[]},\"line_dash_offset\":{\"value\":0},\"line_join\":{\"value\":\"bevel\"},\"line_width\":{\"value\":1},\"marker\":{\"value\":\"circle\"},\"size\":{\"value\":5.477225575051661},\"x\":{\"field\":\"Annual_Income\"},\"y\":{\"field\":\"Spend_score\"}},\"id\":\"1677\",\"type\":\"Scatter\"},{\"attributes\":{\"fill_alpha\":{\"value\":0.2},\"fill_color\":{\"value\":\"#30a2da\"},\"line_alpha\":{\"value\":0.2},\"line_color\":{\"value\":\"#30a2da\"},\"size\":{\"value\":5.477225575051661},\"x\":{\"field\":\"Annual_Income\"},\"y\":{\"field\":\"Spend_score\"}},\"id\":\"1674\",\"type\":\"Scatter\"},{\"attributes\":{\"source\":{\"id\":\"1669\"}},\"id\":\"1676\",\"type\":\"CDSView\"},{\"attributes\":{\"end\":0.14222857142857143,\"reset_end\":0.14222857142857143,\"reset_start\":0.00977142857142857,\"start\":0.00977142857142857,\"tags\":[[[\"Annual_Income\",\"Annual_Income\",null]]]},\"id\":\"1636\",\"type\":\"Range1d\"},{\"attributes\":{\"end\":108.8,\"reset_end\":108.8,\"reset_start\":-8.8,\"start\":-8.8,\"tags\":[[[\"Spend_score\",\"Spend_score\",null]]]},\"id\":\"1637\",\"type\":\"Range1d\"},{\"attributes\":{\"bottom_units\":\"screen\",\"fill_alpha\":0.5,\"fill_color\":\"lightgrey\",\"left_units\":\"screen\",\"level\":\"overlay\",\"line_alpha\":1.0,\"line_color\":\"black\",\"line_dash\":[4,4],\"line_width\":2,\"right_units\":\"screen\",\"syncable\":false,\"top_units\":\"screen\"},\"id\":\"1661\",\"type\":\"BoxAnnotation\"}],\"root_ids\":[\"1634\"]},\"title\":\"Bokeh Application\",\"version\":\"2.3.3\"}};\n",
       "    var render_items = [{\"docid\":\"6b43204c-1aa1-4099-aef5-4395ee9bbc36\",\"root_ids\":[\"1634\"],\"roots\":{\"1634\":\"9183d0c8-e84a-43ee-90de-eb74803a65cb\"}}];\n",
       "    root.Bokeh.embed.embed_items_notebook(docs_json, render_items);\n",
       "  }\n",
       "  if (root.Bokeh !== undefined && root.Bokeh.Panel !== undefined) {\n",
       "    embed_document(root);\n",
       "  } else {\n",
       "    var attempts = 0;\n",
       "    var timer = setInterval(function(root) {\n",
       "      if (root.Bokeh !== undefined && root.Bokeh.Panel !== undefined) {\n",
       "        clearInterval(timer);\n",
       "        embed_document(root);\n",
       "      } else if (document.readyState == \"complete\") {\n",
       "        attempts++;\n",
       "        if (attempts > 200) {\n",
       "          clearInterval(timer);\n",
       "          console.log(\"Bokeh: ERROR: Unable to run BokehJS code because BokehJS library is missing\");\n",
       "        }\n",
       "      }\n",
       "    }, 25, root)\n",
       "  }\n",
       "})(window);</script>"
      ],
      "text/plain": [
       ":Scatter   [Annual_Income]   (Spend_score)"
      ],
      "application/vnd.holoviews_exec.v0+json": ""
     },
     "metadata": {
      "application/vnd.holoviews_exec.v0+json": {
       "id": "1634"
      }
     },
     "execution_count": 13
    }
   ],
   "metadata": {}
  },
  {
   "cell_type": "code",
   "execution_count": 14,
   "source": [
    "# Function to cluster and plot dataset\r\n",
    "def test_cluster_amount(df, clusters):\r\n",
    "    model = KMeans(n_clusters=clusters, random_state=5)\r\n",
    "    model\r\n",
    "\r\n",
    "    # Fitting model\r\n",
    "    model.fit(df)\r\n",
    "\r\n",
    "    # Add a new class column to df_iris\r\n",
    "    df[\"class\"] = model.labels_"
   ],
   "outputs": [],
   "metadata": {}
  },
  {
   "cell_type": "code",
   "execution_count": 15,
   "source": [
    "test_cluster_amount(df_shopping, 2)\r\n",
    "df_shopping.hvplot.scatter(x=\"Annual_Income\", y=\"Spend_score\", by=\"class\")"
   ],
   "outputs": [
    {
     "output_type": "display_data",
     "data": {},
     "metadata": {}
    },
    {
     "output_type": "execute_result",
     "data": {
      "text/html": [
       "<div id='1756'>\n",
       "\n",
       "\n",
       "\n",
       "\n",
       "\n",
       "  <div class=\"bk-root\" id=\"94c376ac-682e-4693-b11c-27a6a2df9719\" data-root-id=\"1756\"></div>\n",
       "</div>\n",
       "<script type=\"application/javascript\">(function(root) {\n",
       "  function embed_document(root) {\n",
       "    var docs_json = {\"f8f3404c-3a5b-4fac-bfbf-63a00a0c1649\":{\"defs\":[{\"extends\":null,\"module\":null,\"name\":\"ReactiveHTML1\",\"overrides\":[],\"properties\":[]},{\"extends\":null,\"module\":null,\"name\":\"FlexBox1\",\"overrides\":[],\"properties\":[{\"default\":\"flex-start\",\"kind\":null,\"name\":\"align_content\"},{\"default\":\"flex-start\",\"kind\":null,\"name\":\"align_items\"},{\"default\":\"row\",\"kind\":null,\"name\":\"flex_direction\"},{\"default\":\"wrap\",\"kind\":null,\"name\":\"flex_wrap\"},{\"default\":\"flex-start\",\"kind\":null,\"name\":\"justify_content\"}]},{\"extends\":null,\"module\":null,\"name\":\"TemplateActions1\",\"overrides\":[],\"properties\":[{\"default\":0,\"kind\":null,\"name\":\"open_modal\"},{\"default\":0,\"kind\":null,\"name\":\"close_modal\"}]},{\"extends\":null,\"module\":null,\"name\":\"MaterialTemplateActions1\",\"overrides\":[],\"properties\":[{\"default\":0,\"kind\":null,\"name\":\"open_modal\"},{\"default\":0,\"kind\":null,\"name\":\"close_modal\"}]}],\"roots\":{\"references\":[{\"attributes\":{},\"id\":\"1780\",\"type\":\"PanTool\"},{\"attributes\":{\"label\":{\"value\":\"0\"},\"renderers\":[{\"id\":\"1804\"}]},\"id\":\"1817\",\"type\":\"LegendItem\"},{\"attributes\":{\"angle\":{\"value\":0.0},\"fill_alpha\":{\"value\":1.0},\"fill_color\":{\"value\":\"#fc4f30\"},\"hatch_alpha\":{\"value\":1.0},\"hatch_color\":{\"value\":\"black\"},\"hatch_scale\":{\"value\":12.0},\"hatch_weight\":{\"value\":1.0},\"line_alpha\":{\"value\":1.0},\"line_cap\":{\"value\":\"butt\"},\"line_color\":{\"value\":\"#fc4f30\"},\"line_dash\":{\"value\":[]},\"line_dash_offset\":{\"value\":0},\"line_join\":{\"value\":\"bevel\"},\"line_width\":{\"value\":1},\"marker\":{\"value\":\"circle\"},\"size\":{\"value\":5.477225575051661},\"x\":{\"field\":\"Annual_Income\"},\"y\":{\"field\":\"Spend_score\"}},\"id\":\"1840\",\"type\":\"Scatter\"},{\"attributes\":{},\"id\":\"1776\",\"type\":\"BasicTicker\"},{\"attributes\":{\"fill_color\":{\"value\":\"#30a2da\"},\"line_color\":{\"value\":\"#30a2da\"},\"size\":{\"value\":5.477225575051661},\"x\":{\"field\":\"Annual_Income\"},\"y\":{\"field\":\"Spend_score\"}},\"id\":\"1801\",\"type\":\"Scatter\"},{\"attributes\":{\"fill_alpha\":{\"value\":0.2},\"fill_color\":{\"value\":\"#30a2da\"},\"line_alpha\":{\"value\":0.2},\"line_color\":{\"value\":\"#30a2da\"},\"size\":{\"value\":5.477225575051661},\"x\":{\"field\":\"Annual_Income\"},\"y\":{\"field\":\"Spend_score\"}},\"id\":\"1803\",\"type\":\"Scatter\"},{\"attributes\":{\"click_policy\":\"mute\",\"items\":[{\"id\":\"1817\"},{\"id\":\"1839\"}],\"location\":[0,0],\"title\":\"class\"},\"id\":\"1816\",\"type\":\"Legend\"},{\"attributes\":{},\"id\":\"1767\",\"type\":\"LinearScale\"},{\"attributes\":{\"axis_label\":\"Annual_Income\",\"formatter\":{\"id\":\"1792\"},\"major_label_policy\":{\"id\":\"1794\"},\"ticker\":{\"id\":\"1772\"}},\"id\":\"1771\",\"type\":\"LinearAxis\"},{\"attributes\":{\"angle\":{\"value\":0.0},\"fill_alpha\":{\"value\":1.0},\"fill_color\":{\"value\":\"#30a2da\"},\"hatch_alpha\":{\"value\":1.0},\"hatch_color\":{\"value\":\"black\"},\"hatch_scale\":{\"value\":12.0},\"hatch_weight\":{\"value\":1.0},\"line_alpha\":{\"value\":1.0},\"line_cap\":{\"value\":\"butt\"},\"line_color\":{\"value\":\"#30a2da\"},\"line_dash\":{\"value\":[]},\"line_dash_offset\":{\"value\":0},\"line_join\":{\"value\":\"bevel\"},\"line_width\":{\"value\":1},\"marker\":{\"value\":\"circle\"},\"size\":{\"value\":5.477225575051661},\"x\":{\"field\":\"Annual_Income\"},\"y\":{\"field\":\"Spend_score\"}},\"id\":\"1818\",\"type\":\"Scatter\"},{\"attributes\":{},\"id\":\"1769\",\"type\":\"LinearScale\"},{\"attributes\":{\"fill_color\":{\"value\":\"#fc4f30\"},\"line_color\":{\"value\":\"#fc4f30\"},\"size\":{\"value\":5.477225575051661},\"x\":{\"field\":\"Annual_Income\"},\"y\":{\"field\":\"Spend_score\"}},\"id\":\"1822\",\"type\":\"Scatter\"},{\"attributes\":{\"axis\":{\"id\":\"1771\"},\"grid_line_color\":null,\"ticker\":null},\"id\":\"1774\",\"type\":\"Grid\"},{\"attributes\":{\"axis\":{\"id\":\"1775\"},\"dimension\":1,\"grid_line_color\":null,\"ticker\":null},\"id\":\"1778\",\"type\":\"Grid\"},{\"attributes\":{\"axis_label\":\"Spend_score\",\"formatter\":{\"id\":\"1795\"},\"major_label_policy\":{\"id\":\"1797\"},\"ticker\":{\"id\":\"1776\"}},\"id\":\"1775\",\"type\":\"LinearAxis\"},{\"attributes\":{\"data\":{\"Annual_Income\":{\"__ndarray__\":\"uB6F61G4jj/8qfHSTWKQP5zEILByaJE/O99PjZdukj/b+X5qvHSTP9v5fmq8dJM/exSuR+F6lD97FK5H4XqUPxsv3SQGgZU/WmQ730+Nlz/6fmq8dJOYP5qZmZmZmZk/eekmMQisnD956SYxCKycPxkEVg4tsp0/uB6F61G4nj9MN4lBYOWgP0w3iUFg5aA/nMQgsHJooT+LbOf7qfGiP9v5fmq8dKM/K4cW2c73oz8rhxbZzvejPxsv3SQGgaU/arx0kxgEpj9aZDvfT42nP1pkO99Pjac/+n5qvHSTqD/6fmq8dJOoP9nO91Pjpas/2c73U+Olqz/ZzvdT46WrP9nO91Pjpas/yXa+nxovrT8ZBFYOLbKtP7gehetRuK4/uB6F61G4rj8IrBxaZDuvP1g5tMh2vq8/VOOlm8QgsD/8qfHSTWKwP6RwPQrXo7A/pHA9CtejsD+kcD0K16OwP/T91HjpJrE/RIts5/upsT9Ei2zn+6mxP+xRuB6F67E/kxgEVg4tsj+TGARWDi2yP5MYBFYOLbI/O99PjZdusj/jpZvEILCyP+Olm8QgsLI/i2zn+6nxsj8zMzMzMzOzP9v5fmq8dLM/g8DKoUW2sz+DwMqhRbazPyuHFtnO97M/K4cW2c73sz8rhxbZzvezPyuHFtnO97M/K4cW2c73sz8rhxbZzvezP9NNYhBYObQ/I9v5fmq8tD/D9Shcj8K1P2q8dJMYBLY/EoPAyqFFtj8Sg8DKoUW2PxKDwMqhRbY/ukkMAiuHtj+6SQwCK4e2PwIrhxbZzrc/okW28/3UuD9KDAIrhxa5P/LSTWIQWLk/QmDl0CLbuT+R7Xw/NV66P5HtfD81Xro/IbByaJHtvD+4HoXrUbi+P1TjpZvEIMA/8KfGSzeJwT8=\",\"dtype\":\"float64\",\"order\":\"little\",\"shape\":[85]},\"Spend_score\":{\"__ndarray__\":\"AAAAAABAVEAAAAAAAEBTQAAAAAAAAFNAAAAAAACAV0AAAAAAAABSQAAAAAAAwFhAAAAAAABAU0AAAAAAAMBTQAAAAAAAgFBAAAAAAACAWEAAAAAAAEBSQAAAAAAAQFJAAAAAAACAVEAAAAAAAIBOQAAAAAAAwFVAAAAAAABAUkAAAAAAAABXQAAAAAAAQFRAAAAAAABAUkAAAAAAAMBSQAAAAAAAAFdAAAAAAACATkAAAAAAAEBQQAAAAAAAAE5AAAAAAAAAS0AAAAAAAIBJQAAAAAAAgEtAAAAAAACATUAAAAAAAIBNQAAAAAAAAEtAAAAAAAAASkAAAAAAAIBLQAAAAAAAgExAAAAAAACAS0AAAAAAAABOQAAAAAAAAEpAAAAAAAAASUAAAAAAAIBIQAAAAAAAgEtAAAAAAAAAS0AAAAAAAABHQAAAAAAAAEhAAAAAAAAASUAAAAAAAIBNQAAAAAAAAExAAAAAAAAATUAAAAAAAMBWQAAAAAAAQFNAAAAAAADAV0AAAAAAAMBSQAAAAAAAwFJAAAAAAADAUUAAAAAAAABWQAAAAAAAQFJAAAAAAAAAUkAAAAAAAEBXQAAAAAAAwFVAAAAAAABAWEAAAAAAAIBSQAAAAAAAgFZAAAAAAAAAVkAAAAAAAABTQAAAAAAAQFZAAAAAAACAU0AAAAAAAEBSQAAAAAAAwFRAAAAAAABAV0AAAAAAAMBSQAAAAAAAwFdAAAAAAACAT0AAAAAAAMBSQAAAAAAAAFdAAAAAAACAVUAAAAAAAEBRQAAAAAAAgFZAAAAAAACAVUAAAAAAAABWQAAAAAAAQFhAAAAAAAAAUUAAAAAAAEBVQAAAAAAAQFFAAAAAAADAVkAAAAAAAMBTQAAAAAAAgFJAAAAAAADAVEA=\",\"dtype\":\"float64\",\"order\":\"little\",\"shape\":[85]},\"class\":[0,0,0,0,0,0,0,0,0,0,0,0,0,0,0,0,0,0,0,0,0,0,0,0,0,0,0,0,0,0,0,0,0,0,0,0,0,0,0,0,0,0,0,0,0,0,0,0,0,0,0,0,0,0,0,0,0,0,0,0,0,0,0,0,0,0,0,0,0,0,0,0,0,0,0,0,0,0,0,0,0,0,0,0,0]},\"selected\":{\"id\":\"1799\"},\"selection_policy\":{\"id\":\"1814\"}},\"id\":\"1798\",\"type\":\"ColumnDataSource\"},{\"attributes\":{},\"id\":\"1781\",\"type\":\"WheelZoomTool\"},{\"attributes\":{},\"id\":\"1779\",\"type\":\"SaveTool\"},{\"attributes\":{\"end\":0.14222857142857143,\"reset_end\":0.14222857142857143,\"reset_start\":0.00977142857142857,\"start\":0.00977142857142857,\"tags\":[[[\"Annual_Income\",\"Annual_Income\",null]]]},\"id\":\"1758\",\"type\":\"Range1d\"},{\"attributes\":{},\"id\":\"1814\",\"type\":\"UnionRenderers\"},{\"attributes\":{\"overlay\":{\"id\":\"1784\"}},\"id\":\"1782\",\"type\":\"BoxZoomTool\"},{\"attributes\":{},\"id\":\"1783\",\"type\":\"ResetTool\"},{\"attributes\":{\"active_multi\":null,\"tools\":[{\"id\":\"1760\"},{\"id\":\"1779\"},{\"id\":\"1780\"},{\"id\":\"1781\"},{\"id\":\"1782\"},{\"id\":\"1783\"}]},\"id\":\"1785\",\"type\":\"Toolbar\"},{\"attributes\":{\"margin\":[5,5,5,5],\"name\":\"HSpacer02983\",\"sizing_mode\":\"stretch_width\"},\"id\":\"1949\",\"type\":\"Spacer\"},{\"attributes\":{\"source\":{\"id\":\"1819\"}},\"id\":\"1826\",\"type\":\"CDSView\"},{\"attributes\":{\"data_source\":{\"id\":\"1819\"},\"glyph\":{\"id\":\"1822\"},\"hover_glyph\":null,\"muted_glyph\":{\"id\":\"1824\"},\"nonselection_glyph\":{\"id\":\"1823\"},\"selection_glyph\":{\"id\":\"1840\"},\"view\":{\"id\":\"1826\"}},\"id\":\"1825\",\"type\":\"GlyphRenderer\"},{\"attributes\":{},\"id\":\"1792\",\"type\":\"BasicTickFormatter\"},{\"attributes\":{\"margin\":[5,5,5,5],\"name\":\"HSpacer02982\",\"sizing_mode\":\"stretch_width\"},\"id\":\"1757\",\"type\":\"Spacer\"},{\"attributes\":{\"fill_alpha\":{\"value\":0.1},\"fill_color\":{\"value\":\"#fc4f30\"},\"line_alpha\":{\"value\":0.1},\"line_color\":{\"value\":\"#fc4f30\"},\"size\":{\"value\":5.477225575051661},\"x\":{\"field\":\"Annual_Income\"},\"y\":{\"field\":\"Spend_score\"}},\"id\":\"1823\",\"type\":\"Scatter\"},{\"attributes\":{\"label\":{\"value\":\"1\"},\"renderers\":[{\"id\":\"1825\"}]},\"id\":\"1839\",\"type\":\"LegendItem\"},{\"attributes\":{},\"id\":\"1837\",\"type\":\"UnionRenderers\"},{\"attributes\":{\"fill_alpha\":{\"value\":0.2},\"fill_color\":{\"value\":\"#fc4f30\"},\"line_alpha\":{\"value\":0.2},\"line_color\":{\"value\":\"#fc4f30\"},\"size\":{\"value\":5.477225575051661},\"x\":{\"field\":\"Annual_Income\"},\"y\":{\"field\":\"Spend_score\"}},\"id\":\"1824\",\"type\":\"Scatter\"},{\"attributes\":{\"callback\":null,\"renderers\":[{\"id\":\"1804\"},{\"id\":\"1825\"}],\"tags\":[\"hv_created\"],\"tooltips\":[[\"class\",\"@{class}\"],[\"Annual_Income\",\"@{Annual_Income}\"],[\"Spend_score\",\"@{Spend_score}\"]]},\"id\":\"1760\",\"type\":\"HoverTool\"},{\"attributes\":{},\"id\":\"1794\",\"type\":\"AllLabels\"},{\"attributes\":{\"data\":{\"Annual_Income\":{\"__ndarray__\":\"uB6F61G4jj/8qfHSTWKQP5zEILByaJE/O99PjZdukj/b+X5qvHSTP9v5fmq8dJM/exSuR+F6lD97FK5H4XqUPxsv3SQGgZU/WmQ730+Nlz/6fmq8dJOYP5qZmZmZmZk/eekmMQisnD956SYxCKycPxkEVg4tsp0/uB6F61G4nj9MN4lBYOWgP0w3iUFg5aA/nMQgsHJooT+LbOf7qfGiP9v5fmq8dKM/K4cW2c73oz8rhxbZzvejP3sUrkfheqQ/exSuR+F6pD97FK5H4XqkP3sUrkfheqQ/Gy/dJAaBpT9qvHSTGASmP2q8dJMYBKY/arx0kxgEpj+6SQwCK4emP7pJDAIrh6Y/WmQ730+Npz9aZDvfT42nP6rx0k1iEKg/qvHSTWIQqD/6fmq8dJOoP/p+arx0k6g/+n5qvHSTqD/6fmq8dJOoP0oMAiuHFqk/SgwCK4cWqT+amZmZmZmpP5qZmZmZmak/2c73U+Olqz/ZzvdT46WrP9nO91Pjpas/2c73U+Olqz/ZzvdT46WrP9nO91Pjpas/2c73U+Olqz/ZzvdT46WrP8l2vp8aL60/GQRWDi2yrT9oke18PzWuP2iR7Xw/Na4/uB6F61G4rj+4HoXrUbiuP7gehetRuK4/uB6F61G4rj8IrBxaZDuvP1g5tMh2vq8/WDm0yHa+rz9YObTIdr6vP1g5tMh2vq8/WDm0yHa+rz9U46WbxCCwP1TjpZvEILA/VOOlm8QgsD9U46WbxCCwP1TjpZvEILA//Knx0k1isD+kcD0K16OwP/T91HjpJrE/9P3UeOkmsT/0/dR46SaxP+xRuB6F67E/kxgEVg4tsj+TGARWDi2yP5MYBFYOLbI/O99PjZdusj/jpZvEILCyP+Olm8QgsLI/i2zn+6nxsj8zMzMzMzOzP9v5fmq8dLM/g8DKoUW2sz+DwMqhRbazPyuHFtnO97M/K4cW2c73sz8rhxbZzvezPyuHFtnO97M/K4cW2c73sz8rhxbZzvezP9NNYhBYObQ/I9v5fmq8tD/D9Shcj8K1P2q8dJMYBLY/EoPAyqFFtj8Sg8DKoUW2PxKDwMqhRbY/ukkMAiuHtj+6SQwCK4e2PwIrhxbZzrc/okW28/3UuD9KDAIrhxa5P/LSTWIQWLk/QmDl0CLbuT+R7Xw/NV66P5HtfD81Xro/IbByaJHtvD+4HoXrUbi+P1TjpZvEIMA/8KfGSzeJwT8=\",\"dtype\":\"float64\",\"order\":\"little\",\"shape\":[115]},\"Spend_score\":{\"__ndarray__\":\"AAAAAACAQ0AAAAAAAAAYQAAAAAAAAERAAAAAAAAAGEAAAAAAAAAIQAAAAAAAACxAAAAAAAAALkAAAAAAAAAqQAAAAAAAgEFAAAAAAAAAPUAAAAAAAIBBQAAAAAAAABRAAAAAAAAALEAAAAAAAABAQAAAAAAAAD9AAAAAAAAAEEAAAAAAAAAQQAAAAAAAACxAAAAAAAAAMUAAAAAAAAA6QAAAAAAAgEFAAAAAAAAAQkAAAAAAAAA8QAAAAAAAgEtAAAAAAACAR0AAAAAAAABFQAAAAAAAAEVAAAAAAAAASkAAAAAAAABOQAAAAAAAgEZAAAAAAACAREAAAAAAAABJQAAAAAAAAEdAAAAAAAAAR0AAAAAAAABMQAAAAAAAAEpAAAAAAACATUAAAAAAAIBJQAAAAAAAAElAAAAAAAAASEAAAAAAAIBHQAAAAAAAgEtAAAAAAAAARUAAAAAAAIBIQAAAAAAAAExAAAAAAACAR0AAAAAAAIBKQAAAAAAAAEhAAAAAAAAARUAAAAAAAIBJQAAAAAAAgERAAAAAAAAARkAAAAAAAABHQAAAAAAAAE1AAAAAAAAAR0AAAAAAAIBLQAAAAAAAgERAAAAAAACASEAAAAAAAABEQAAAAAAAAEVAAAAAAACAR0AAAAAAAABFQAAAAAAAgERAAAAAAAAASEAAAAAAAIBNQAAAAAAAAExAAAAAAAAARUAAAAAAAABJQAAAAAAAAEdAAAAAAACARUAAAAAAAABIQAAAAAAAAEpAAAAAAAAARUAAAAAAAIBFQAAAAAAAgEVAAAAAAACATEAAAAAAAABEQAAAAAAAAD1AAAAAAACAQUAAAAAAAAAmQAAAAAAAACJAAAAAAAAAQUAAAAAAAAAUQAAAAAAAABxAAAAAAAAAJEAAAAAAAAAUQAAAAAAAAERAAAAAAAAAKEAAAAAAAABCQAAAAAAAADZAAAAAAAAAMUAAAAAAAAA0QAAAAAAAADBAAAAAAAAA8D8AAAAAAADwPwAAAAAAgEFAAAAAAAAAFEAAAAAAAAA6QAAAAAAAADRAAAAAAAAAO0AAAAAAAAAqQAAAAAAAACRAAAAAAAAAKkAAAAAAAAAuQAAAAAAAACxAAAAAAAAAQEAAAAAAAAAuQAAAAAAAgENAAAAAAAAAOEAAAAAAAAAxQAAAAAAAADdAAAAAAAAAIEAAAAAAAAAwQAAAAAAAADxAAAAAAAAAMkA=\",\"dtype\":\"float64\",\"order\":\"little\",\"shape\":[115]},\"class\":[1,1,1,1,1,1,1,1,1,1,1,1,1,1,1,1,1,1,1,1,1,1,1,1,1,1,1,1,1,1,1,1,1,1,1,1,1,1,1,1,1,1,1,1,1,1,1,1,1,1,1,1,1,1,1,1,1,1,1,1,1,1,1,1,1,1,1,1,1,1,1,1,1,1,1,1,1,1,1,1,1,1,1,1,1,1,1,1,1,1,1,1,1,1,1,1,1,1,1,1,1,1,1,1,1,1,1,1,1,1,1,1,1,1,1]},\"selected\":{\"id\":\"1820\"},\"selection_policy\":{\"id\":\"1837\"}},\"id\":\"1819\",\"type\":\"ColumnDataSource\"},{\"attributes\":{\"end\":108.8,\"reset_end\":108.8,\"reset_start\":-8.8,\"start\":-8.8,\"tags\":[[[\"Spend_score\",\"Spend_score\",null]]]},\"id\":\"1759\",\"type\":\"Range1d\"},{\"attributes\":{\"below\":[{\"id\":\"1771\"}],\"center\":[{\"id\":\"1774\"},{\"id\":\"1778\"}],\"height\":300,\"left\":[{\"id\":\"1775\"}],\"margin\":[5,5,5,5],\"min_border_bottom\":10,\"min_border_left\":10,\"min_border_right\":10,\"min_border_top\":10,\"renderers\":[{\"id\":\"1804\"},{\"id\":\"1825\"}],\"right\":[{\"id\":\"1816\"}],\"sizing_mode\":\"fixed\",\"title\":{\"id\":\"1763\"},\"toolbar\":{\"id\":\"1785\"},\"width\":700,\"x_range\":{\"id\":\"1758\"},\"x_scale\":{\"id\":\"1767\"},\"y_range\":{\"id\":\"1759\"},\"y_scale\":{\"id\":\"1769\"}},\"id\":\"1762\",\"subtype\":\"Figure\",\"type\":\"Plot\"},{\"attributes\":{},\"id\":\"1797\",\"type\":\"AllLabels\"},{\"attributes\":{},\"id\":\"1795\",\"type\":\"BasicTickFormatter\"},{\"attributes\":{\"text_color\":\"black\",\"text_font_size\":\"12pt\"},\"id\":\"1763\",\"type\":\"Title\"},{\"attributes\":{},\"id\":\"1799\",\"type\":\"Selection\"},{\"attributes\":{\"data_source\":{\"id\":\"1798\"},\"glyph\":{\"id\":\"1801\"},\"hover_glyph\":null,\"muted_glyph\":{\"id\":\"1803\"},\"nonselection_glyph\":{\"id\":\"1802\"},\"selection_glyph\":{\"id\":\"1818\"},\"view\":{\"id\":\"1805\"}},\"id\":\"1804\",\"type\":\"GlyphRenderer\"},{\"attributes\":{\"bottom_units\":\"screen\",\"fill_alpha\":0.5,\"fill_color\":\"lightgrey\",\"left_units\":\"screen\",\"level\":\"overlay\",\"line_alpha\":1.0,\"line_color\":\"black\",\"line_dash\":[4,4],\"line_width\":2,\"right_units\":\"screen\",\"syncable\":false,\"top_units\":\"screen\"},\"id\":\"1784\",\"type\":\"BoxAnnotation\"},{\"attributes\":{},\"id\":\"1820\",\"type\":\"Selection\"},{\"attributes\":{\"source\":{\"id\":\"1798\"}},\"id\":\"1805\",\"type\":\"CDSView\"},{\"attributes\":{\"children\":[{\"id\":\"1757\"},{\"id\":\"1762\"},{\"id\":\"1949\"}],\"margin\":[0,0,0,0],\"name\":\"Row02978\",\"tags\":[\"embedded\"]},\"id\":\"1756\",\"type\":\"Row\"},{\"attributes\":{},\"id\":\"1772\",\"type\":\"BasicTicker\"},{\"attributes\":{\"fill_alpha\":{\"value\":0.1},\"fill_color\":{\"value\":\"#30a2da\"},\"line_alpha\":{\"value\":0.1},\"line_color\":{\"value\":\"#30a2da\"},\"size\":{\"value\":5.477225575051661},\"x\":{\"field\":\"Annual_Income\"},\"y\":{\"field\":\"Spend_score\"}},\"id\":\"1802\",\"type\":\"Scatter\"}],\"root_ids\":[\"1756\"]},\"title\":\"Bokeh Application\",\"version\":\"2.3.3\"}};\n",
       "    var render_items = [{\"docid\":\"f8f3404c-3a5b-4fac-bfbf-63a00a0c1649\",\"root_ids\":[\"1756\"],\"roots\":{\"1756\":\"94c376ac-682e-4693-b11c-27a6a2df9719\"}}];\n",
       "    root.Bokeh.embed.embed_items_notebook(docs_json, render_items);\n",
       "  }\n",
       "  if (root.Bokeh !== undefined && root.Bokeh.Panel !== undefined) {\n",
       "    embed_document(root);\n",
       "  } else {\n",
       "    var attempts = 0;\n",
       "    var timer = setInterval(function(root) {\n",
       "      if (root.Bokeh !== undefined && root.Bokeh.Panel !== undefined) {\n",
       "        clearInterval(timer);\n",
       "        embed_document(root);\n",
       "      } else if (document.readyState == \"complete\") {\n",
       "        attempts++;\n",
       "        if (attempts > 200) {\n",
       "          clearInterval(timer);\n",
       "          console.log(\"Bokeh: ERROR: Unable to run BokehJS code because BokehJS library is missing\");\n",
       "        }\n",
       "      }\n",
       "    }, 25, root)\n",
       "  }\n",
       "})(window);</script>"
      ],
      "text/plain": [
       ":NdOverlay   [class]\n",
       "   :Scatter   [Annual_Income]   (Spend_score)"
      ],
      "application/vnd.holoviews_exec.v0+json": ""
     },
     "metadata": {
      "application/vnd.holoviews_exec.v0+json": {
       "id": "1756"
      }
     },
     "execution_count": 15
    }
   ],
   "metadata": {}
  },
  {
   "cell_type": "code",
   "execution_count": 16,
   "source": [
    "fig = px.scatter_3d(\r\n",
    "    df_shopping,\r\n",
    "    x=\"Annual_Income\",\r\n",
    "    y=\"Spend_score\",\r\n",
    "    z=\"Age\",\r\n",
    "    color=\"class\",\r\n",
    "    symbol=\"class\",\r\n",
    "    width=800,\r\n",
    ")\r\n",
    "fig.update_layout(legend=dict(x=0, y=1))\r\n",
    "fig.show()"
   ],
   "outputs": [
    {
     "output_type": "display_data",
     "data": {
      "application/vnd.plotly.v1+json": {
       "config": {
        "plotlyServerURL": "https://plot.ly"
       },
       "data": [
        {
         "hovertemplate": "class=%{marker.color}<br>Annual_Income=%{x}<br>Spend_score=%{y}<br>Age=%{z}<extra></extra>",
         "legendgroup": "1",
         "marker": {
          "color": [
           1,
           1,
           1,
           1,
           1,
           1,
           1,
           1,
           1,
           1,
           1,
           1,
           1,
           1,
           1,
           1,
           1,
           1,
           1,
           1,
           1,
           1,
           1,
           1,
           1,
           1,
           1,
           1,
           1,
           1,
           1,
           1,
           1,
           1,
           1,
           1,
           1,
           1,
           1,
           1,
           1,
           1,
           1,
           1,
           1,
           1,
           1,
           1,
           1,
           1,
           1,
           1,
           1,
           1,
           1,
           1,
           1,
           1,
           1,
           1,
           1,
           1,
           1,
           1,
           1,
           1,
           1,
           1,
           1,
           1,
           1,
           1,
           1,
           1,
           1,
           1,
           1,
           1,
           1,
           1,
           1,
           1,
           1,
           1,
           1,
           1,
           1,
           1,
           1,
           1,
           1,
           1,
           1,
           1,
           1,
           1,
           1,
           1,
           1,
           1,
           1,
           1,
           1,
           1,
           1,
           1,
           1,
           1,
           1,
           1,
           1,
           1,
           1,
           1,
           1
          ],
          "coloraxis": "coloraxis",
          "symbol": "circle"
         },
         "mode": "markers",
         "name": "1",
         "scene": "scene",
         "showlegend": true,
         "type": "scatter3d",
         "x": [
          0.015,
          0.016,
          0.017,
          0.018,
          0.019,
          0.019,
          0.02,
          0.02,
          0.021,
          0.023,
          0.024,
          0.025,
          0.028,
          0.028,
          0.029,
          0.03,
          0.033,
          0.033,
          0.034,
          0.037,
          0.038,
          0.039,
          0.039,
          0.04,
          0.04,
          0.04,
          0.04,
          0.042,
          0.043,
          0.043,
          0.043,
          0.044,
          0.044,
          0.046,
          0.046,
          0.047,
          0.047,
          0.048,
          0.048,
          0.048,
          0.048,
          0.049,
          0.049,
          0.05,
          0.05,
          0.054,
          0.054,
          0.054,
          0.054,
          0.054,
          0.054,
          0.054,
          0.054,
          0.057,
          0.058,
          0.059,
          0.059,
          0.06,
          0.06,
          0.06,
          0.06,
          0.061,
          0.062,
          0.062,
          0.062,
          0.062,
          0.062,
          0.063,
          0.063,
          0.063,
          0.063,
          0.063,
          0.064,
          0.065,
          0.067,
          0.067,
          0.067,
          0.07,
          0.071,
          0.071,
          0.071,
          0.072,
          0.073,
          0.073,
          0.074,
          0.075,
          0.076,
          0.077,
          0.077,
          0.078,
          0.078,
          0.078,
          0.078,
          0.078,
          0.078,
          0.079,
          0.081,
          0.085,
          0.086,
          0.087,
          0.087,
          0.087,
          0.088,
          0.088,
          0.093,
          0.097,
          0.098,
          0.099,
          0.101,
          0.103,
          0.103,
          0.113,
          0.12,
          0.126,
          0.137
         ],
         "y": [
          39,
          6,
          40,
          6,
          3,
          14,
          15,
          13,
          35,
          29,
          35,
          5,
          14,
          32,
          31,
          4,
          4,
          14,
          17,
          26,
          35,
          36,
          28,
          55,
          47,
          42,
          42,
          52,
          60,
          45,
          41,
          50,
          46,
          46,
          56,
          52,
          59,
          51,
          50,
          48,
          47,
          55,
          42,
          49,
          56,
          47,
          53,
          48,
          42,
          51,
          41,
          44,
          46,
          58,
          46,
          55,
          41,
          49,
          40,
          42,
          47,
          42,
          41,
          48,
          59,
          56,
          42,
          50,
          46,
          43,
          48,
          52,
          42,
          43,
          43,
          57,
          40,
          29,
          35,
          11,
          9,
          34,
          5,
          7,
          10,
          5,
          40,
          12,
          36,
          22,
          17,
          20,
          16,
          1,
          1,
          35,
          5,
          26,
          20,
          27,
          13,
          10,
          13,
          15,
          14,
          32,
          15,
          39,
          24,
          17,
          23,
          8,
          16,
          28,
          18
         ],
         "z": [
          19,
          20,
          31,
          35,
          64,
          67,
          58,
          37,
          35,
          52,
          35,
          46,
          54,
          45,
          40,
          60,
          53,
          49,
          42,
          36,
          65,
          48,
          49,
          50,
          27,
          29,
          31,
          49,
          59,
          50,
          47,
          51,
          69,
          53,
          70,
          67,
          54,
          63,
          43,
          68,
          32,
          70,
          47,
          60,
          60,
          59,
          45,
          40,
          49,
          57,
          67,
          46,
          48,
          55,
          50,
          68,
          18,
          48,
          40,
          32,
          47,
          48,
          23,
          49,
          67,
          49,
          21,
          66,
          54,
          68,
          66,
          65,
          38,
          63,
          51,
          50,
          38,
          23,
          43,
          59,
          47,
          25,
          20,
          44,
          19,
          57,
          28,
          25,
          48,
          34,
          43,
          44,
          47,
          37,
          34,
          56,
          19,
          50,
          42,
          36,
          40,
          36,
          52,
          58,
          59,
          37,
          46,
          41,
          54,
          41,
          34,
          33,
          47,
          45,
          32
         ]
        },
        {
         "hovertemplate": "class=%{marker.color}<br>Annual_Income=%{x}<br>Spend_score=%{y}<br>Age=%{z}<extra></extra>",
         "legendgroup": "0",
         "marker": {
          "color": [
           0,
           0,
           0,
           0,
           0,
           0,
           0,
           0,
           0,
           0,
           0,
           0,
           0,
           0,
           0,
           0,
           0,
           0,
           0,
           0,
           0,
           0,
           0,
           0,
           0,
           0,
           0,
           0,
           0,
           0,
           0,
           0,
           0,
           0,
           0,
           0,
           0,
           0,
           0,
           0,
           0,
           0,
           0,
           0,
           0,
           0,
           0,
           0,
           0,
           0,
           0,
           0,
           0,
           0,
           0,
           0,
           0,
           0,
           0,
           0,
           0,
           0,
           0,
           0,
           0,
           0,
           0,
           0,
           0,
           0,
           0,
           0,
           0,
           0,
           0,
           0,
           0,
           0,
           0,
           0,
           0,
           0,
           0,
           0,
           0
          ],
          "coloraxis": "coloraxis",
          "symbol": "diamond"
         },
         "mode": "markers",
         "name": "0",
         "scene": "scene",
         "showlegend": true,
         "type": "scatter3d",
         "x": [
          0.015,
          0.016,
          0.017,
          0.018,
          0.019,
          0.019,
          0.02,
          0.02,
          0.021,
          0.023,
          0.024,
          0.025,
          0.028,
          0.028,
          0.029,
          0.03,
          0.033,
          0.033,
          0.034,
          0.037,
          0.038,
          0.039,
          0.039,
          0.042,
          0.043,
          0.046,
          0.046,
          0.048,
          0.048,
          0.054,
          0.054,
          0.054,
          0.054,
          0.057,
          0.058,
          0.06,
          0.06,
          0.061,
          0.062,
          0.063,
          0.064,
          0.065,
          0.065,
          0.065,
          0.067,
          0.069,
          0.069,
          0.07,
          0.071,
          0.071,
          0.071,
          0.072,
          0.073,
          0.073,
          0.074,
          0.075,
          0.076,
          0.077,
          0.077,
          0.078,
          0.078,
          0.078,
          0.078,
          0.078,
          0.078,
          0.079,
          0.081,
          0.085,
          0.086,
          0.087,
          0.087,
          0.087,
          0.088,
          0.088,
          0.093,
          0.097,
          0.098,
          0.099,
          0.101,
          0.103,
          0.103,
          0.113,
          0.12,
          0.126,
          0.137
         ],
         "y": [
          81,
          77,
          76,
          94,
          72,
          99,
          77,
          79,
          66,
          98,
          73,
          73,
          82,
          61,
          87,
          73,
          92,
          81,
          73,
          75,
          92,
          61,
          65,
          60,
          54,
          51,
          55,
          59,
          59,
          54,
          52,
          55,
          57,
          55,
          60,
          52,
          50,
          49,
          55,
          54,
          46,
          48,
          50,
          59,
          56,
          58,
          91,
          77,
          95,
          75,
          75,
          71,
          88,
          73,
          72,
          93,
          87,
          97,
          74,
          90,
          88,
          76,
          89,
          78,
          73,
          83,
          93,
          75,
          95,
          63,
          75,
          92,
          86,
          69,
          90,
          86,
          88,
          97,
          68,
          85,
          69,
          91,
          79,
          74,
          83
         ],
         "z": [
          21,
          23,
          22,
          23,
          30,
          35,
          24,
          22,
          20,
          35,
          25,
          31,
          29,
          35,
          23,
          21,
          18,
          21,
          30,
          20,
          24,
          31,
          24,
          33,
          31,
          27,
          19,
          18,
          19,
          26,
          23,
          38,
          21,
          22,
          34,
          24,
          27,
          20,
          26,
          19,
          19,
          18,
          19,
          49,
          27,
          40,
          39,
          31,
          40,
          38,
          39,
          31,
          29,
          32,
          35,
          32,
          32,
          28,
          32,
          34,
          39,
          38,
          27,
          30,
          30,
          29,
          31,
          36,
          33,
          32,
          28,
          36,
          30,
          27,
          35,
          32,
          29,
          30,
          28,
          36,
          32,
          38,
          35,
          32,
          30
         ]
        }
       ],
       "layout": {
        "coloraxis": {
         "colorbar": {
          "title": {
           "text": "class"
          }
         },
         "colorscale": [
          [
           0,
           "#0d0887"
          ],
          [
           0.1111111111111111,
           "#46039f"
          ],
          [
           0.2222222222222222,
           "#7201a8"
          ],
          [
           0.3333333333333333,
           "#9c179e"
          ],
          [
           0.4444444444444444,
           "#bd3786"
          ],
          [
           0.5555555555555556,
           "#d8576b"
          ],
          [
           0.6666666666666666,
           "#ed7953"
          ],
          [
           0.7777777777777778,
           "#fb9f3a"
          ],
          [
           0.8888888888888888,
           "#fdca26"
          ],
          [
           1,
           "#f0f921"
          ]
         ]
        },
        "legend": {
         "title": {
          "text": "class"
         },
         "tracegroupgap": 0,
         "x": 0,
         "y": 1
        },
        "margin": {
         "t": 60
        },
        "scene": {
         "domain": {
          "x": [
           0,
           1
          ],
          "y": [
           0,
           1
          ]
         },
         "xaxis": {
          "title": {
           "text": "Annual_Income"
          }
         },
         "yaxis": {
          "title": {
           "text": "Spend_score"
          }
         },
         "zaxis": {
          "title": {
           "text": "Age"
          }
         }
        },
        "template": {
         "data": {
          "bar": [
           {
            "error_x": {
             "color": "#2a3f5f"
            },
            "error_y": {
             "color": "#2a3f5f"
            },
            "marker": {
             "line": {
              "color": "#E5ECF6",
              "width": 0.5
             },
             "pattern": {
              "fillmode": "overlay",
              "size": 10,
              "solidity": 0.2
             }
            },
            "type": "bar"
           }
          ],
          "barpolar": [
           {
            "marker": {
             "line": {
              "color": "#E5ECF6",
              "width": 0.5
             },
             "pattern": {
              "fillmode": "overlay",
              "size": 10,
              "solidity": 0.2
             }
            },
            "type": "barpolar"
           }
          ],
          "carpet": [
           {
            "aaxis": {
             "endlinecolor": "#2a3f5f",
             "gridcolor": "white",
             "linecolor": "white",
             "minorgridcolor": "white",
             "startlinecolor": "#2a3f5f"
            },
            "baxis": {
             "endlinecolor": "#2a3f5f",
             "gridcolor": "white",
             "linecolor": "white",
             "minorgridcolor": "white",
             "startlinecolor": "#2a3f5f"
            },
            "type": "carpet"
           }
          ],
          "choropleth": [
           {
            "colorbar": {
             "outlinewidth": 0,
             "ticks": ""
            },
            "type": "choropleth"
           }
          ],
          "contour": [
           {
            "colorbar": {
             "outlinewidth": 0,
             "ticks": ""
            },
            "colorscale": [
             [
              0,
              "#0d0887"
             ],
             [
              0.1111111111111111,
              "#46039f"
             ],
             [
              0.2222222222222222,
              "#7201a8"
             ],
             [
              0.3333333333333333,
              "#9c179e"
             ],
             [
              0.4444444444444444,
              "#bd3786"
             ],
             [
              0.5555555555555556,
              "#d8576b"
             ],
             [
              0.6666666666666666,
              "#ed7953"
             ],
             [
              0.7777777777777778,
              "#fb9f3a"
             ],
             [
              0.8888888888888888,
              "#fdca26"
             ],
             [
              1,
              "#f0f921"
             ]
            ],
            "type": "contour"
           }
          ],
          "contourcarpet": [
           {
            "colorbar": {
             "outlinewidth": 0,
             "ticks": ""
            },
            "type": "contourcarpet"
           }
          ],
          "heatmap": [
           {
            "colorbar": {
             "outlinewidth": 0,
             "ticks": ""
            },
            "colorscale": [
             [
              0,
              "#0d0887"
             ],
             [
              0.1111111111111111,
              "#46039f"
             ],
             [
              0.2222222222222222,
              "#7201a8"
             ],
             [
              0.3333333333333333,
              "#9c179e"
             ],
             [
              0.4444444444444444,
              "#bd3786"
             ],
             [
              0.5555555555555556,
              "#d8576b"
             ],
             [
              0.6666666666666666,
              "#ed7953"
             ],
             [
              0.7777777777777778,
              "#fb9f3a"
             ],
             [
              0.8888888888888888,
              "#fdca26"
             ],
             [
              1,
              "#f0f921"
             ]
            ],
            "type": "heatmap"
           }
          ],
          "heatmapgl": [
           {
            "colorbar": {
             "outlinewidth": 0,
             "ticks": ""
            },
            "colorscale": [
             [
              0,
              "#0d0887"
             ],
             [
              0.1111111111111111,
              "#46039f"
             ],
             [
              0.2222222222222222,
              "#7201a8"
             ],
             [
              0.3333333333333333,
              "#9c179e"
             ],
             [
              0.4444444444444444,
              "#bd3786"
             ],
             [
              0.5555555555555556,
              "#d8576b"
             ],
             [
              0.6666666666666666,
              "#ed7953"
             ],
             [
              0.7777777777777778,
              "#fb9f3a"
             ],
             [
              0.8888888888888888,
              "#fdca26"
             ],
             [
              1,
              "#f0f921"
             ]
            ],
            "type": "heatmapgl"
           }
          ],
          "histogram": [
           {
            "marker": {
             "pattern": {
              "fillmode": "overlay",
              "size": 10,
              "solidity": 0.2
             }
            },
            "type": "histogram"
           }
          ],
          "histogram2d": [
           {
            "colorbar": {
             "outlinewidth": 0,
             "ticks": ""
            },
            "colorscale": [
             [
              0,
              "#0d0887"
             ],
             [
              0.1111111111111111,
              "#46039f"
             ],
             [
              0.2222222222222222,
              "#7201a8"
             ],
             [
              0.3333333333333333,
              "#9c179e"
             ],
             [
              0.4444444444444444,
              "#bd3786"
             ],
             [
              0.5555555555555556,
              "#d8576b"
             ],
             [
              0.6666666666666666,
              "#ed7953"
             ],
             [
              0.7777777777777778,
              "#fb9f3a"
             ],
             [
              0.8888888888888888,
              "#fdca26"
             ],
             [
              1,
              "#f0f921"
             ]
            ],
            "type": "histogram2d"
           }
          ],
          "histogram2dcontour": [
           {
            "colorbar": {
             "outlinewidth": 0,
             "ticks": ""
            },
            "colorscale": [
             [
              0,
              "#0d0887"
             ],
             [
              0.1111111111111111,
              "#46039f"
             ],
             [
              0.2222222222222222,
              "#7201a8"
             ],
             [
              0.3333333333333333,
              "#9c179e"
             ],
             [
              0.4444444444444444,
              "#bd3786"
             ],
             [
              0.5555555555555556,
              "#d8576b"
             ],
             [
              0.6666666666666666,
              "#ed7953"
             ],
             [
              0.7777777777777778,
              "#fb9f3a"
             ],
             [
              0.8888888888888888,
              "#fdca26"
             ],
             [
              1,
              "#f0f921"
             ]
            ],
            "type": "histogram2dcontour"
           }
          ],
          "mesh3d": [
           {
            "colorbar": {
             "outlinewidth": 0,
             "ticks": ""
            },
            "type": "mesh3d"
           }
          ],
          "parcoords": [
           {
            "line": {
             "colorbar": {
              "outlinewidth": 0,
              "ticks": ""
             }
            },
            "type": "parcoords"
           }
          ],
          "pie": [
           {
            "automargin": true,
            "type": "pie"
           }
          ],
          "scatter": [
           {
            "marker": {
             "colorbar": {
              "outlinewidth": 0,
              "ticks": ""
             }
            },
            "type": "scatter"
           }
          ],
          "scatter3d": [
           {
            "line": {
             "colorbar": {
              "outlinewidth": 0,
              "ticks": ""
             }
            },
            "marker": {
             "colorbar": {
              "outlinewidth": 0,
              "ticks": ""
             }
            },
            "type": "scatter3d"
           }
          ],
          "scattercarpet": [
           {
            "marker": {
             "colorbar": {
              "outlinewidth": 0,
              "ticks": ""
             }
            },
            "type": "scattercarpet"
           }
          ],
          "scattergeo": [
           {
            "marker": {
             "colorbar": {
              "outlinewidth": 0,
              "ticks": ""
             }
            },
            "type": "scattergeo"
           }
          ],
          "scattergl": [
           {
            "marker": {
             "colorbar": {
              "outlinewidth": 0,
              "ticks": ""
             }
            },
            "type": "scattergl"
           }
          ],
          "scattermapbox": [
           {
            "marker": {
             "colorbar": {
              "outlinewidth": 0,
              "ticks": ""
             }
            },
            "type": "scattermapbox"
           }
          ],
          "scatterpolar": [
           {
            "marker": {
             "colorbar": {
              "outlinewidth": 0,
              "ticks": ""
             }
            },
            "type": "scatterpolar"
           }
          ],
          "scatterpolargl": [
           {
            "marker": {
             "colorbar": {
              "outlinewidth": 0,
              "ticks": ""
             }
            },
            "type": "scatterpolargl"
           }
          ],
          "scatterternary": [
           {
            "marker": {
             "colorbar": {
              "outlinewidth": 0,
              "ticks": ""
             }
            },
            "type": "scatterternary"
           }
          ],
          "surface": [
           {
            "colorbar": {
             "outlinewidth": 0,
             "ticks": ""
            },
            "colorscale": [
             [
              0,
              "#0d0887"
             ],
             [
              0.1111111111111111,
              "#46039f"
             ],
             [
              0.2222222222222222,
              "#7201a8"
             ],
             [
              0.3333333333333333,
              "#9c179e"
             ],
             [
              0.4444444444444444,
              "#bd3786"
             ],
             [
              0.5555555555555556,
              "#d8576b"
             ],
             [
              0.6666666666666666,
              "#ed7953"
             ],
             [
              0.7777777777777778,
              "#fb9f3a"
             ],
             [
              0.8888888888888888,
              "#fdca26"
             ],
             [
              1,
              "#f0f921"
             ]
            ],
            "type": "surface"
           }
          ],
          "table": [
           {
            "cells": {
             "fill": {
              "color": "#EBF0F8"
             },
             "line": {
              "color": "white"
             }
            },
            "header": {
             "fill": {
              "color": "#C8D4E3"
             },
             "line": {
              "color": "white"
             }
            },
            "type": "table"
           }
          ]
         },
         "layout": {
          "annotationdefaults": {
           "arrowcolor": "#2a3f5f",
           "arrowhead": 0,
           "arrowwidth": 1
          },
          "autotypenumbers": "strict",
          "coloraxis": {
           "colorbar": {
            "outlinewidth": 0,
            "ticks": ""
           }
          },
          "colorscale": {
           "diverging": [
            [
             0,
             "#8e0152"
            ],
            [
             0.1,
             "#c51b7d"
            ],
            [
             0.2,
             "#de77ae"
            ],
            [
             0.3,
             "#f1b6da"
            ],
            [
             0.4,
             "#fde0ef"
            ],
            [
             0.5,
             "#f7f7f7"
            ],
            [
             0.6,
             "#e6f5d0"
            ],
            [
             0.7,
             "#b8e186"
            ],
            [
             0.8,
             "#7fbc41"
            ],
            [
             0.9,
             "#4d9221"
            ],
            [
             1,
             "#276419"
            ]
           ],
           "sequential": [
            [
             0,
             "#0d0887"
            ],
            [
             0.1111111111111111,
             "#46039f"
            ],
            [
             0.2222222222222222,
             "#7201a8"
            ],
            [
             0.3333333333333333,
             "#9c179e"
            ],
            [
             0.4444444444444444,
             "#bd3786"
            ],
            [
             0.5555555555555556,
             "#d8576b"
            ],
            [
             0.6666666666666666,
             "#ed7953"
            ],
            [
             0.7777777777777778,
             "#fb9f3a"
            ],
            [
             0.8888888888888888,
             "#fdca26"
            ],
            [
             1,
             "#f0f921"
            ]
           ],
           "sequentialminus": [
            [
             0,
             "#0d0887"
            ],
            [
             0.1111111111111111,
             "#46039f"
            ],
            [
             0.2222222222222222,
             "#7201a8"
            ],
            [
             0.3333333333333333,
             "#9c179e"
            ],
            [
             0.4444444444444444,
             "#bd3786"
            ],
            [
             0.5555555555555556,
             "#d8576b"
            ],
            [
             0.6666666666666666,
             "#ed7953"
            ],
            [
             0.7777777777777778,
             "#fb9f3a"
            ],
            [
             0.8888888888888888,
             "#fdca26"
            ],
            [
             1,
             "#f0f921"
            ]
           ]
          },
          "colorway": [
           "#636efa",
           "#EF553B",
           "#00cc96",
           "#ab63fa",
           "#FFA15A",
           "#19d3f3",
           "#FF6692",
           "#B6E880",
           "#FF97FF",
           "#FECB52"
          ],
          "font": {
           "color": "#2a3f5f"
          },
          "geo": {
           "bgcolor": "white",
           "lakecolor": "white",
           "landcolor": "#E5ECF6",
           "showlakes": true,
           "showland": true,
           "subunitcolor": "white"
          },
          "hoverlabel": {
           "align": "left"
          },
          "hovermode": "closest",
          "mapbox": {
           "style": "light"
          },
          "paper_bgcolor": "white",
          "plot_bgcolor": "#E5ECF6",
          "polar": {
           "angularaxis": {
            "gridcolor": "white",
            "linecolor": "white",
            "ticks": ""
           },
           "bgcolor": "#E5ECF6",
           "radialaxis": {
            "gridcolor": "white",
            "linecolor": "white",
            "ticks": ""
           }
          },
          "scene": {
           "xaxis": {
            "backgroundcolor": "#E5ECF6",
            "gridcolor": "white",
            "gridwidth": 2,
            "linecolor": "white",
            "showbackground": true,
            "ticks": "",
            "zerolinecolor": "white"
           },
           "yaxis": {
            "backgroundcolor": "#E5ECF6",
            "gridcolor": "white",
            "gridwidth": 2,
            "linecolor": "white",
            "showbackground": true,
            "ticks": "",
            "zerolinecolor": "white"
           },
           "zaxis": {
            "backgroundcolor": "#E5ECF6",
            "gridcolor": "white",
            "gridwidth": 2,
            "linecolor": "white",
            "showbackground": true,
            "ticks": "",
            "zerolinecolor": "white"
           }
          },
          "shapedefaults": {
           "line": {
            "color": "#2a3f5f"
           }
          },
          "ternary": {
           "aaxis": {
            "gridcolor": "white",
            "linecolor": "white",
            "ticks": ""
           },
           "baxis": {
            "gridcolor": "white",
            "linecolor": "white",
            "ticks": ""
           },
           "bgcolor": "#E5ECF6",
           "caxis": {
            "gridcolor": "white",
            "linecolor": "white",
            "ticks": ""
           }
          },
          "title": {
           "x": 0.05
          },
          "xaxis": {
           "automargin": true,
           "gridcolor": "white",
           "linecolor": "white",
           "ticks": "",
           "title": {
            "standoff": 15
           },
           "zerolinecolor": "white",
           "zerolinewidth": 2
          },
          "yaxis": {
           "automargin": true,
           "gridcolor": "white",
           "linecolor": "white",
           "ticks": "",
           "title": {
            "standoff": 15
           },
           "zerolinecolor": "white",
           "zerolinewidth": 2
          }
         }
        },
        "width": 800
       }
      }
     },
     "metadata": {}
    }
   ],
   "metadata": {}
  },
  {
   "cell_type": "code",
   "execution_count": 17,
   "source": [],
   "outputs": [],
   "metadata": {}
  },
  {
   "cell_type": "code",
   "execution_count": null,
   "source": [],
   "outputs": [],
   "metadata": {}
  },
  {
   "cell_type": "code",
   "execution_count": null,
   "source": [],
   "outputs": [],
   "metadata": {}
  }
 ],
 "metadata": {
  "orig_nbformat": 4,
  "language_info": {
   "name": "python",
   "version": "3.8.10",
   "mimetype": "text/x-python",
   "codemirror_mode": {
    "name": "ipython",
    "version": 3
   },
   "pygments_lexer": "ipython3",
   "nbconvert_exporter": "python",
   "file_extension": ".py"
  },
  "kernelspec": {
   "name": "python3",
   "display_name": "Python 3.8.10 64-bit ('PyData': conda)"
  },
  "interpreter": {
   "hash": "6bbbf46ac35b3752c751a75b1a32432224dacc405cb55dd51db559f1ccadb36c"
  }
 },
 "nbformat": 4,
 "nbformat_minor": 2
}